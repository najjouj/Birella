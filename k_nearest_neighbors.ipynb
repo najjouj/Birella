{
  "nbformat": 4,
  "nbformat_minor": 0,
  "metadata": {
    "colab": {
      "provenance": [],
      "authorship_tag": "ABX9TyMGr2kmUQ/CY2gobDCSX6Py",
      "include_colab_link": true
    },
    "kernelspec": {
      "name": "python3",
      "display_name": "Python 3"
    },
    "language_info": {
      "name": "python"
    }
  },
  "cells": [
    {
      "cell_type": "markdown",
      "metadata": {
        "id": "view-in-github",
        "colab_type": "text"
      },
      "source": [
        "<a href=\"https://colab.research.google.com/github/najjouj/Birella/blob/main/k_nearest_neighbors.ipynb\" target=\"_parent\"><img src=\"https://colab.research.google.com/assets/colab-badge.svg\" alt=\"Open In Colab\"/></a>"
      ]
    },
    {
      "cell_type": "code",
      "source": [
        "import numpy as np"
      ],
      "metadata": {
        "id": "fwq7vWOS16HW"
      },
      "execution_count": 3,
      "outputs": []
    },
    {
      "cell_type": "code",
      "execution_count": 5,
      "metadata": {
        "colab": {
          "base_uri": "https://localhost:8080/"
        },
        "id": "4r4-7hYE1IEs",
        "outputId": "6baab5bc-a2f8-4123-f474-3e52bcf51c60"
      },
      "outputs": [
        {
          "output_type": "execute_result",
          "data": {
            "text/plain": [
              "(10, 2)"
            ]
          },
          "metadata": {},
          "execution_count": 5
        }
      ],
      "source": [
        "rand=np.random.RandomState(42)\n",
        "\n",
        "X=rand.rand(10,2)\n",
        "X.shape"
      ]
    },
    {
      "cell_type": "code",
      "source": [
        "import matplotlib.pyplot as plt\n",
        "plt.scatter(X[:,0],X[:,1], s=100)"
      ],
      "metadata": {
        "colab": {
          "base_uri": "https://localhost:8080/",
          "height": 448
        },
        "id": "7P8D4c932S2r",
        "outputId": "a3757830-b0a9-485a-e3b0-146d0168b2fc"
      },
      "execution_count": 6,
      "outputs": [
        {
          "output_type": "execute_result",
          "data": {
            "text/plain": [
              "<matplotlib.collections.PathCollection at 0x7e1b92932d10>"
            ]
          },
          "metadata": {},
          "execution_count": 6
        },
        {
          "output_type": "display_data",
          "data": {
            "text/plain": [
              "<Figure size 640x480 with 1 Axes>"
            ],
            "image/png": "[encoded data removed]"
          },
          "metadata": {}
        }
      ]
    },
    {
      "cell_type": "code",
      "source": [
        "dist_sq=np.sum((X[:,np.newaxis,:]-X[np.newaxis,:,:])**2,axis=1)\n",
        "dist_sq.shape"
      ],
      "metadata": {
        "colab": {
          "base_uri": "https://localhost:8080/"
        },
        "id": "dtq4rFe424Xr",
        "outputId": "76628264-1198-4f9f-fc99-e78b54c968b3"
      },
      "execution_count": 8,
      "outputs": [
        {
          "output_type": "execute_result",
          "data": {
            "text/plain": [
              "(10, 2)"
            ]
          },
          "metadata": {},
          "execution_count": 8
        }
      ]
    },
    {
      "cell_type": "markdown",
      "source": [
        "For each pair of points, compute differences in their coordinates"
      ],
      "metadata": {
        "id": "92udQMKc4MZD"
      }
    },
    {
      "cell_type": "code",
      "source": [
        "differences=X[:,np.newaxis,:] - X[np.newaxis,:,:]\n",
        "differences.shape"
      ],
      "metadata": {
        "colab": {
          "base_uri": "https://localhost:8080/"
        },
        "id": "4KZkBV8w36xG",
        "outputId": "6c3415cd-edc5-4838-e6b4-eec6d212427c"
      },
      "execution_count": 10,
      "outputs": [
        {
          "output_type": "execute_result",
          "data": {
            "text/plain": [
              "(10, 10, 2)"
            ]
          },
          "metadata": {},
          "execution_count": 10
        }
      ]
    },
    {
      "cell_type": "markdown",
      "source": [
        "Square the coordinate differences"
      ],
      "metadata": {
        "id": "iEVz5mUf5KCs"
      }
    },
    {
      "cell_type": "code",
      "source": [
        "sq_difference=differences**2\n",
        "sq_difference.shape"
      ],
      "metadata": {
        "colab": {
          "base_uri": "https://localhost:8080/"
        },
        "id": "SAVVejOi49u2",
        "outputId": "ddce51e7-4994-4610-d551-62b2b38c0658"
      },
      "execution_count": 11,
      "outputs": [
        {
          "output_type": "execute_result",
          "data": {
            "text/plain": [
              "(10, 10, 2)"
            ]
          },
          "metadata": {},
          "execution_count": 11
        }
      ]
    },
    {
      "cell_type": "markdown",
      "source": [
        "Sum the coordinate differences to get the squared distance"
      ],
      "metadata": {
        "id": "rfF4mAak5djA"
      }
    },
    {
      "cell_type": "code",
      "source": [
        "dist_sq=sq_difference.sum(-1)\n",
        "dist_sq.shape"
      ],
      "metadata": {
        "colab": {
          "base_uri": "https://localhost:8080/"
        },
        "id": "-4x2NtoL5rkQ",
        "outputId": "a37edd34-e076-4033-c3e1-bc150b10aca3"
      },
      "execution_count": 12,
      "outputs": [
        {
          "output_type": "execute_result",
          "data": {
            "text/plain": [
              "(10, 10)"
            ]
          },
          "metadata": {},
          "execution_count": 12
        }
      ]
    },
    {
      "cell_type": "code",
      "source": [
        "dist_sq.diagonal()"
      ],
      "metadata": {
        "colab": {
          "base_uri": "https://localhost:8080/"
        },
        "id": "DtucRPzx6LBu",
        "outputId": "90fc8cb4-04a3-4182-8c4d-0703e37614e9"
      },
      "execution_count": 13,
      "outputs": [
        {
          "output_type": "execute_result",
          "data": {
            "text/plain": [
              "array([0., 0., 0., 0., 0., 0., 0., 0., 0., 0.])"
            ]
          },
          "metadata": {},
          "execution_count": 13
        }
      ]
    },
    {
      "cell_type": "code",
      "source": [
        "nearest=np.argsort(dist_sq,axis=1)\n",
        "nearest"
      ],
      "metadata": {
        "colab": {
          "base_uri": "https://localhost:8080/"
        },
        "id": "nnZSIBD46TRw",
        "outputId": "48367273-9ed0-45c3-c0d3-1a768c0ffd1e"
      },
      "execution_count": 14,
      "outputs": [
        {
          "output_type": "execute_result",
          "data": {
            "text/plain": [
              "array([[0, 3, 4, 5, 8, 1, 9, 7, 2, 6],\n",
              "       [1, 4, 6, 9, 8, 0, 7, 3, 2, 5],\n",
              "       [2, 7, 9, 8, 6, 4, 3, 1, 0, 5],\n",
              "       [3, 5, 0, 8, 4, 9, 7, 2, 1, 6],\n",
              "       [4, 1, 0, 8, 9, 6, 3, 5, 7, 2],\n",
              "       [5, 3, 0, 8, 4, 9, 1, 7, 2, 6],\n",
              "       [6, 1, 9, 4, 8, 7, 2, 0, 3, 5],\n",
              "       [7, 2, 9, 8, 6, 4, 1, 3, 0, 5],\n",
              "       [8, 9, 4, 7, 2, 3, 0, 1, 5, 6],\n",
              "       [9, 8, 7, 2, 6, 1, 4, 0, 3, 5]])"
            ]
          },
          "metadata": {},
          "execution_count": 14
        }
      ]
    },
    {
      "cell_type": "code",
      "source": [
        "k=2\n",
        "nearest_partition=np.argpartition(dist_sq,k+1,axis=1)\n",
        "nearest_partition"
      ],
      "metadata": {
        "colab": {
          "base_uri": "https://localhost:8080/"
        },
        "id": "Llx0DlZq7HLL",
        "outputId": "301fb337-a11d-4331-e041-11c6d62645b2"
      },
      "execution_count": 26,
      "outputs": [
        {
          "output_type": "execute_result",
          "data": {
            "text/plain": [
              "array([[0, 3, 4, 5, 8, 1, 9, 7, 2, 6],\n",
              "       [1, 4, 6, 9, 8, 0, 7, 3, 2, 5],\n",
              "       [2, 7, 9, 8, 6, 4, 3, 1, 0, 5],\n",
              "       [3, 5, 0, 8, 4, 9, 7, 2, 1, 6],\n",
              "       [4, 1, 0, 8, 9, 6, 3, 5, 7, 2],\n",
              "       [5, 3, 0, 8, 4, 9, 1, 7, 2, 6],\n",
              "       [6, 1, 9, 4, 8, 7, 2, 0, 3, 5],\n",
              "       [7, 2, 9, 8, 6, 4, 1, 3, 0, 5],\n",
              "       [8, 9, 4, 7, 2, 3, 0, 1, 5, 6],\n",
              "       [9, 8, 7, 2, 6, 1, 4, 0, 3, 5]])"
            ]
          },
          "metadata": {},
          "execution_count": 26
        }
      ]
    },
    {
      "cell_type": "code",
      "source": [
        "plt.scatter(nearest_partition[:,0],nearest_partition[:,1], s=100)"
      ],
      "metadata": {
        "colab": {
          "base_uri": "https://localhost:8080/",
          "height": 447
        },
        "id": "rqox2HSv-k4L",
        "outputId": "bf254bc9-a0f2-41ff-acfe-7df935f6999c"
      },
      "execution_count": 27,
      "outputs": [
        {
          "output_type": "execute_result",
          "data": {
            "text/plain": [
              "<matplotlib.collections.PathCollection at 0x7e1b8f93bb50>"
            ]
          },
          "metadata": {},
          "execution_count": 27
        },
        {
          "output_type": "display_data",
          "data": {
            "text/plain": [
              "<Figure size 640x480 with 1 Axes>"
            ],
            "image/png": "[encoded data removed]"
          },
          "metadata": {}
        }
      ]
    },
    {
      "cell_type": "markdown",
      "source": [
        "Draw lines from each point to its two nearest neighbors"
      ],
      "metadata": {
        "id": "HgfzRYie8Gsy"
      }
    },
    {
      "cell_type": "code",
      "source": [
        "k=2\n",
        "for i in range (X.shape[0]):\n",
        "  for j in nearest_partition[i,:k+1]:\n",
        "    #plot a line from X[i] to X[j]\n",
        "    #use some zip magic to make it happen:\n",
        "    plt.plot(*zip(X[j],X[i]),color='blue')\n",
        "    plt.title('Visualization of the neighbors of each point')"
      ],
      "metadata": {
        "colab": {
          "base_uri": "https://localhost:8080/",
          "height": 452
        },
        "id": "9ThZPlN98Q4U",
        "outputId": "99c81173-cf2a-4900-aec8-33b8485ef852"
      },
      "execution_count": 28,
      "outputs": [
        {
          "output_type": "display_data",
          "data": {
            "text/plain": [
              "<Figure size 640x480 with 1 Axes>"
            ],
            "image/png": "[encoded data removed]"
          },
          "metadata": {}
        }
      ]
    }
  ]
}